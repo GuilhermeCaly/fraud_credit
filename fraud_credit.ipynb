{
  "nbformat": 4,
  "nbformat_minor": 0,
  "metadata": {
    "colab": {
      "provenance": [],
      "mount_file_id": "1JyKvfTphYHqiHBBtxUYG-3GEp_feo30p",
      "authorship_tag": "ABX9TyOsaLGe9owQiQg+mSSBMQT3",
      "include_colab_link": true
    },
    "kernelspec": {
      "name": "python3",
      "display_name": "Python 3"
    },
    "language_info": {
      "name": "python"
    }
  },
  "cells": [
    {
      "cell_type": "markdown",
      "metadata": {
        "id": "view-in-github",
        "colab_type": "text"
      },
      "source": [
        "<a href=\"https://colab.research.google.com/github/GuilhermeCaly/fraud_credit/blob/main/fraud_credit.ipynb\" target=\"_parent\"><img src=\"https://colab.research.google.com/assets/colab-badge.svg\" alt=\"Open In Colab\"/></a>"
      ]
    },
    {
      "cell_type": "code",
      "source": [
        "from google.colab import drive\n",
        "import pandas as pd\n",
        "import numpy as np\n",
        "from datetime import datetime\n",
        "import pymysql\n",
        "from google.colab import userdata"
      ],
      "metadata": {
        "id": "osErbUCj3qlp"
      },
      "execution_count": 8,
      "outputs": []
    },
    {
      "cell_type": "code",
      "source": [
        "host = userdata.get('host')\n",
        "user = userdata.get('user')\n",
        "password = userdata.get('password')\n",
        "database = userdata.get('database')\n",
        "drive.mount('/content/drive')\n",
        "file_path = userdata.get('file_path')\n",
        "dt_source_lc = pd.read_csv(file_path)\n",
        "df_fraud =  dt_source_lc"
      ],
      "metadata": {
        "colab": {
          "base_uri": "https://localhost:8080/"
        },
        "id": "vfo3HuSINp7c",
        "outputId": "7c9b9e3d-119a-49ee-c330-9e638a2e7b1a"
      },
      "execution_count": 9,
      "outputs": [
        {
          "output_type": "stream",
          "name": "stdout",
          "text": [
            "Drive already mounted at /content/drive; to attempt to forcibly remount, call drive.mount(\"/content/drive\", force_remount=True).\n"
          ]
        }
      ]
    },
    {
      "cell_type": "code",
      "source": [
        "df_fraud.dropna(inplace=True)\n",
        "df_fraud = df_fraud[(df_fraud['location_region'] != '0') & (df_fraud['amount'] != \"none\") & (df_fraud['risk_score'] != \"none\")]\n",
        "df_fraud = df_fraud[(df_fraud['amount'] != \"none\") & (df_fraud['risk_score'] != \"none\")]\n",
        "df_fraud['timestamp'] = pd.to_datetime(df_fraud['timestamp'], unit='s')"
      ],
      "metadata": {
        "id": "ddH7RQjji4lv"
      },
      "execution_count": 10,
      "outputs": []
    },
    {
      "cell_type": "code",
      "source": [
        "df_fraud['sending_address'] =  df_fraud['sending_address'].astype(str)\n",
        "df_fraud['risk_score'] =  df_fraud['risk_score'].astype(float)\n",
        "df_fraud['location_region'] =  df_fraud['location_region'].astype(str)\n",
        "df_fraud['receiving_address'] =  df_fraud['receiving_address'].astype(str)\n",
        "df_fraud['amount'] =  df_fraud['amount'].astype(float)\n",
        "df_fraud['transaction_type'] =  df_fraud['transaction_type'].astype(str)\n",
        "df_fraud['ip_prefix'] =  df_fraud['ip_prefix'].astype(str)\n",
        "df_fraud['login_frequency'] =  df_fraud['login_frequency'].astype(int)\n",
        "df_fraud['session_duration'] =  df_fraud['session_duration'].astype(int)\n",
        "df_fraud['purchase_pattern'] =  df_fraud['purchase_pattern'].astype(str)\n",
        "df_fraud['age_group'] =  df_fraud['age_group'].astype(str)\n",
        "df_fraud['anomaly'] =  df_fraud['anomaly'].astype(str)"
      ],
      "metadata": {
        "id": "73T22FUDquYM"
      },
      "execution_count": 11,
      "outputs": []
    },
    {
      "cell_type": "code",
      "source": [
        "mean_risk_score = df_fraud.groupby('location_region')['risk_score'].mean()\n",
        "result_table_1 = mean_risk_score.sort_values(ascending=False).reset_index()\n",
        "display(result_table_1)"
      ],
      "metadata": {
        "id": "qATuPIZwo_P6"
      },
      "execution_count": null,
      "outputs": []
    },
    {
      "cell_type": "code",
      "source": [
        "sales_data = df_fraud[df_fraud['transaction_type'] == 'sale']\n",
        "latest_transactions = sales_data.loc[sales_data.groupby('receiving_address')['timestamp'].idxmax()]\n",
        "result_table_2 = latest_transactions.nlargest(3, 'amount')[['receiving_address', 'amount', 'timestamp']]\n",
        "result_table_2"
      ],
      "metadata": {
        "id": "OFAjuYwEwFqM"
      },
      "execution_count": null,
      "outputs": []
    },
    {
      "cell_type": "code",
      "source": [
        "log_error = dt_source_lc.copy()\n",
        "log_error = dt_source_lc[(dt_source_lc['location_region'] == '0') |\n",
        "                         (dt_source_lc['amount'] == \"none\") |\n",
        "                         (dt_source_lc['risk_score'] == \"none\")]"
      ],
      "metadata": {
        "id": "wv6ITlEYg4yf"
      },
      "execution_count": 40,
      "outputs": []
    },
    {
      "cell_type": "code",
      "source": [
        "log_error['error_message'] = ''\n",
        "log_error.loc[log_error['location_region'] == '0', 'error_message'] = 'REGION DOES NOT EXISTS'\n",
        "log_error.loc[log_error['amount'] == \"none\", 'error_message'] = 'AMOUNT IS NONE'\n",
        "log_error.loc[log_error['risk_score'] == \"none\", 'error_message'] = 'RISK SCORE IS NONE'"
      ],
      "metadata": {
        "id": "hoC4mLDgxufi"
      },
      "execution_count": null,
      "outputs": []
    },
    {
      "cell_type": "code",
      "source": [
        "quantidade_erros_log = len(log_error)\n",
        "erros_region = log_error.loc[log_error['error_message'] == 'REGION DOES NOT EXISTS']\n",
        "erros_region_all = len(erros_region)\n",
        "erros_amount = log_error.loc[log_error['error_message'] == 'AMOUNT IS NONE']\n",
        "erros_amount = len(erros_amount)\n",
        "erros_risk_score = log_error.loc[log_error['error_message'] == 'RISK SCORE IS NONE']\n",
        "erros_risk_score = len(erros_risk_score)\n",
        "quantidade_total_registros = len(dt_source_lc)\n",
        "percentual_conformidade_log = 100 * (quantidade_total_registros - quantidade_erros_log) / quantidade_total_registros\n"
      ],
      "metadata": {
        "id": "YBfEwSra0YIF"
      },
      "execution_count": 16,
      "outputs": []
    },
    {
      "cell_type": "code",
      "source": [
        "last_insert_date = datetime.now()\n",
        "\n",
        "data_quality= {\n",
        "    'qtd_erros_Log': [quantidade_erros_log],\n",
        "    'qtd_erros_region__not_exits': [erros_region_all],\n",
        "    'qtd__erros_amount_none': [erros_amount],\n",
        "    'qtd_erros_risk_none': [erros_risk_score],\n",
        "    'qtd_total_registros': [quantidade_total_registros],\n",
        "    'percent_conf_log': [percentual_conformidade_log],\n",
        "    'Dt_ultimo_inset': [last_insert_date]\n",
        "}\n",
        "data_quality = pd.DataFrame(data_quality)"
      ],
      "metadata": {
        "id": "CsqFFiwh4VWe"
      },
      "execution_count": 17,
      "outputs": []
    },
    {
      "cell_type": "code",
      "source": [
        "data_quality = pd.DataFrame(data_quality)"
      ],
      "metadata": {
        "id": "Urc14vrziwA8"
      },
      "execution_count": 18,
      "outputs": []
    },
    {
      "cell_type": "code",
      "source": [
        "conn = pymysql.connect(\n",
        "    host=host,\n",
        "    user=user,\n",
        "    password=password,\n",
        "    database=database\n",
        ")"
      ],
      "metadata": {
        "id": "C7aXhTASZ8Eo"
      },
      "execution_count": 64,
      "outputs": []
    },
    {
      "cell_type": "code",
      "source": [
        "conn.open\n",
        "cursor = conn.cursor()"
      ],
      "metadata": {
        "id": "MC5OQeNZaEx2"
      },
      "execution_count": 65,
      "outputs": []
    },
    {
      "cell_type": "code",
      "source": [
        "for index, row in data_quality.iterrows():\n",
        "    insert_tbl_dt_qlt = \"INSERT INTO DB_FRAUD.DT_QTLT (qtd_erros_log, qtd_erros_region__not_exits, qtd__erros_amount_none, qtd_erros_risk_none, qtd_total_registros, percent_conf_log, Dt_ultimo_inset) VALUES (%s, %s, %s, %s, %s, %s, %s)\"\n",
        "    data_quality_values = (row['qtd_erros_Log'], row['qtd_erros_region__not_exits'], row['qtd__erros_amount_none'], row['qtd_erros_risk_none'], row['qtd_total_registros'], row['percent_conf_log'], row['Dt_ultimo_inset'])\n",
        "    cursor.execute(insert_tbl_dt_qlt, data_quality_values)\n",
        "    conn.commit()"
      ],
      "metadata": {
        "id": "Bw6FPLW6aY-B"
      },
      "execution_count": 26,
      "outputs": []
    },
    {
      "cell_type": "code",
      "source": [
        "for index , row in log_error.iterrows():\n",
        "    insert_logerror = \"INSERT INTO DB_FRAUD.DT_LOGERROR(`timestamp` ,`sending_address`  ,`receiving_address`    ,`amount`   ,`transaction_type` ,`location_region`  ,`ip_prefix`    ,`login_frequency`  ,`session_duration` ,`purchase_pattern` ,`age_group`    ,`risk_score`   ,`anomaly`  ,`error_message`)  VALUES (%s, %s, %s, %s, %s, %s, %s,%s, %s, %s, %s, %s, %s, %s) \"\n",
        "    log_error_insert = (row['timestamp'],row['sending_address'],row['receiving_address'],row['amount'],row['transaction_type'],row['location_region'],row['ip_prefix'],row['login_frequency'],row['session_duration'],row['purchase_pattern'],row['age_group'],row['risk_score'],row['anomaly'],row['error_message'],)\n",
        "    cursor.execute(insert_logerror, log_error_insert)\n",
        "    conn.commit()"
      ],
      "metadata": {
        "id": "bC8dfAGes86L"
      },
      "execution_count": null,
      "outputs": []
    },
    {
      "cell_type": "code",
      "source": [
        "for index , row in result_table_1.iterrows():\n",
        "    insert_result_table_1 = \"INSERT INTO DB_FRAUD.RSLT_I(location_region,risk_score)  VALUES (%s, %s) \"\n",
        "    result_table_1_insert = (row['location_region'],row['risk_score'])\n",
        "    cursor.execute(insert_result_table_1, result_table_1_insert)\n",
        "    conn.commit()"
      ],
      "metadata": {
        "id": "HEo_h6ZWGLBf"
      },
      "execution_count": 68,
      "outputs": []
    },
    {
      "cell_type": "code",
      "source": [
        "for index , row in result_table_2.iterrows():\n",
        "    insert_result_table_2 = \"INSERT INTO DB_FRAUD.RSLT_2(receiving_address,amount,timestamp)  VALUES (%s, %s,%s) \"\n",
        "    result_table_2_insert = (row['receiving_address'],row['amount'], row['timestamp'])\n",
        "    cursor.execute(insert_result_table_2, result_table_2_insert)\n",
        "    conn.commit()"
      ],
      "metadata": {
        "id": "rXAEuayzDwK2"
      },
      "execution_count": 61,
      "outputs": []
    },
    {
      "cell_type": "code",
      "source": [
        "    cursor.close()\n",
        "    conn.close()"
      ],
      "metadata": {
        "id": "cBU_J1k4am-d",
        "colab": {
          "base_uri": "https://localhost:8080/"
        },
        "outputId": "138bfd8c-1a64-4389-e07c-5ed4a04dc372"
      },
      "execution_count": 62,
      "outputs": [
        {
          "output_type": "stream",
          "name": "stdout",
          "text": [
            "Conexão ao MySQL fechada.\n"
          ]
        }
      ]
    }
  ]
}